{
 "cells": [
  {
   "cell_type": "code",
   "execution_count": 2,
   "metadata": {},
   "outputs": [
    {
     "name": "stdout",
     "output_type": "stream",
     "text": [
      "Added /Users/crystal/Lattice/Efforts/Projects/Code/cosmic-soup to sys.path\n",
      "['/Users/crystal/Lattice/Efforts/Projects/Code/cosmic-soup', '/Users/crystal/.local/share/uv/python/cpython-3.12.10-macos-aarch64-none/lib/python312.zip', '/Users/crystal/.local/share/uv/python/cpython-3.12.10-macos-aarch64-none/lib/python3.12', '/Users/crystal/.local/share/uv/python/cpython-3.12.10-macos-aarch64-none/lib/python3.12/lib-dynload', '', '/Users/crystal/Lattice/Efforts/Projects/Code/cosmic-soup/.venv/lib/python3.12/site-packages']\n",
      "/Users/crystal/Lattice/Efforts/Projects/Code/cosmic-soup\n",
      "/Users/crystal/.local/share/uv/python/cpython-3.12.10-macos-aarch64-none/lib/python312.zip\n",
      "/Users/crystal/.local/share/uv/python/cpython-3.12.10-macos-aarch64-none/lib/python3.12\n",
      "/Users/crystal/.local/share/uv/python/cpython-3.12.10-macos-aarch64-none/lib/python3.12/lib-dynload\n",
      "\n",
      "/Users/crystal/Lattice/Efforts/Projects/Code/cosmic-soup/.venv/lib/python3.12/site-packages\n"
     ]
    }
   ],
   "source": [
    "import sys\n",
    "import os\n",
    "\n",
    "# Add the project root directory to the Python path\n",
    "project_root = os.path.abspath(os.path.join(os.getcwd(), \"..\"))\n",
    "if project_root not in sys.path:\n",
    "    sys.path.insert(0, project_root)\n",
    "\n",
    "print(f\"Added {project_root} to sys.path\")\n",
    "print(sys.path)\n",
    "\n",
    "for path in sys.path:\n",
    "    print(path)\n"
   ]
  },
  {
   "cell_type": "code",
   "execution_count": 2,
   "metadata": {},
   "outputs": [
    {
     "ename": "ModuleNotFoundError",
     "evalue": "No module named 'cosmic_soup'",
     "output_type": "error",
     "traceback": [
      "\u001b[31m---------------------------------------------------------------------------\u001b[39m",
      "\u001b[31mModuleNotFoundError\u001b[39m                       Traceback (most recent call last)",
      "\u001b[36mCell\u001b[39m\u001b[36m \u001b[39m\u001b[32mIn[2]\u001b[39m\u001b[32m, line 1\u001b[39m\n\u001b[32m----> \u001b[39m\u001b[32m1\u001b[39m \u001b[38;5;28;01mfrom\u001b[39;00m\u001b[38;5;250m \u001b[39m\u001b[34;01mcosmic_soup\u001b[39;00m\u001b[38;5;250m \u001b[39m\u001b[38;5;28;01mimport\u001b[39;00m particles\n",
      "\u001b[31mModuleNotFoundError\u001b[39m: No module named 'cosmic_soup'"
     ]
    }
   ],
   "source": [
    "from cosmic_soup import particles"
   ]
  },
  {
   "cell_type": "code",
   "execution_count": null,
   "metadata": {},
   "outputs": [],
   "source": []
  }
 ],
 "metadata": {
  "kernelspec": {
   "display_name": ".venv",
   "language": "python",
   "name": "python3"
  },
  "language_info": {
   "codemirror_mode": {
    "name": "ipython",
    "version": 3
   },
   "file_extension": ".py",
   "mimetype": "text/x-python",
   "name": "python",
   "nbconvert_exporter": "python",
   "pygments_lexer": "ipython3",
   "version": "3.9.15"
  }
 },
 "nbformat": 4,
 "nbformat_minor": 2
}
